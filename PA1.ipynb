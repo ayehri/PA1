{
 "cells": [
  {
   "cell_type": "code",
   "execution_count": null,
   "id": "0e6cb6f2-48b8-41d5-a8b5-74cd0e18da28",
   "metadata": {},
   "outputs": [],
   "source": [
    "def alphabet_soup(word):\n",
    "    letters = sorted(word)\n",
    "    sort_alphabet_soup = \"\".join(letters)\n",
    "    print(sort_alphabet_soup)\n",
    "\n",
    "user_input = input(\"Enter a word: \")\n",
    "alphabet_soup(user_input)"
   ]
  },
  {
   "cell_type": "code",
   "execution_count": null,
   "id": "90778023-8e17-4531-a3c2-cea0a0b144ea",
   "metadata": {},
   "outputs": [],
   "source": [
    "def emoticon(sentence):\n",
    "    emoticons = {\"smile\": \":)\", \"grin\": \":D\", \"sad\": \":((\", \"mad\": \">:(\"}\n",
    "    return \" \".join(emoticons.get(word.lower(),word) for word in sentence.split())\n",
    "\n",
    "text = input (\"Enter a sentence: \")\n",
    "print(emoticon(text))"
   ]
  },
  {
   "cell_type": "code",
   "execution_count": null,
   "id": "2ef121c2-605f-41b1-895e-221d323524ef",
   "metadata": {},
   "outputs": [],
   "source": [
    "n = [1,2,3,4,5,6]\n",
    "print(\"First:\",n[0])\n",
    "print(\"Middle:\",n[1:-1])\n",
    "print(\"Last:\",n[5])"
   ]
  }
 ],
 "metadata": {
  "kernelspec": {
   "display_name": "Python [conda env:base] *",
   "language": "python",
   "name": "conda-base-py"
  },
  "language_info": {
   "codemirror_mode": {
    "name": "ipython",
    "version": 3
   },
   "file_extension": ".py",
   "mimetype": "text/x-python",
   "name": "python",
   "nbconvert_exporter": "python",
   "pygments_lexer": "ipython3",
   "version": "3.13.5"
  }
 },
 "nbformat": 4,
 "nbformat_minor": 5
}
